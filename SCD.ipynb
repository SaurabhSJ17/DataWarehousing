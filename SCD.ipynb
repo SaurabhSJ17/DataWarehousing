{
 "cells": [
  {
   "cell_type": "markdown",
   "metadata": {
    "application/vnd.databricks.v1+cell": {
     "cellMetadata": {
      "byteLimit": 2048000,
      "rowLimit": 10000
     },
     "inputWidgets": {},
     "nuid": "133d7ebd-1493-46ce-a128-87d30c801df8",
     "showTitle": false,
     "tableResultSettingsMap": {},
     "title": ""
    }
   },
   "source": [
    "incremental loading data"
   ]
  },
  {
   "cell_type": "code",
   "execution_count": 0,
   "metadata": {
    "application/vnd.databricks.v1+cell": {
     "cellMetadata": {
      "byteLimit": 2048000,
      "implicitDf": true,
      "rowLimit": 10000
     },
     "inputWidgets": {},
     "nuid": "4fbf7b3c-a853-4cf6-9a81-9e1073f04354",
     "showTitle": false,
     "tableResultSettingsMap": {},
     "title": ""
    }
   },
   "outputs": [],
   "source": [
    "%sql\n",
    "CREATE SCHEMA IF NOT EXISTS scd;\n",
    "\n",
    "CREATE TABLE IF NOT EXISTS scd.orders (\n",
    "  order_id INT,\n",
    "  customerid INT,\n",
    "  customername STRING,\n",
    "  customeremail STRING,\n",
    "  productid INT,\n",
    "  productname STRING,\n",
    "  productcategory STRING,\n",
    "  regionid INT,\n",
    "  regionname STRING,\n",
    "  country STRING,\n",
    "  quantity INT,\n",
    "  unitprice DECIMAL(10,2),\n",
    "  totalamount DECIMAL(12,2)\n",
    ");\n",
    "\n",
    "INSERT INTO scd.orders VALUES\n",
    "  (1, 101, 'Alice Smith', 'alice@example.com', 201, 'Laptop', 'Electronics', 301, 'North', 'USA', 2, 800.00, 1600.00),\n",
    "  (2, 102, 'Bob Jones', 'bob@example.com', 202, 'Tablet', 'Electronics', 302, 'South', 'USA', 1, 300.00, 300.00),\n",
    "  (3, 103, 'Carol Lee', 'carol@example.com', 203, 'Desk Chair', 'Furniture', 303, 'East', 'Canada', 4, 120.00, 480.00),\n",
    "  (17, 101, 'Alice Smith', 'alice@example.com', 201, 'Laptop', 'Electronics', 301, 'North', 'USA', 2, 800.00, 1600.00),\n",
    "  (4, 104, 'David Kim', 'david@example.com', 204, 'Monitor', 'Electronics', 304, 'West', 'USA', 3, 200.00, 600.00),\n",
    "  (5, 105, 'Eva Green', 'eva@example.com', 205, 'Notebook', 'Stationery', 305, 'Central', 'UK', 10, 5.00, 50.00),\n",
    "  (6, 106, 'Frank White', 'frank@example.com', 206, 'Pen', 'Stationery', 306, 'North', 'UK', 15, 2.00, 30.00),\n",
    "  (7, 107, 'Grace Black', 'grace@example.com', 207, 'Headphones', 'Electronics', 307, 'South', 'Canada', 5, 50.00, 250.00),\n",
    "  (16, 101, 'Alice Smith', 'alice@example.com', 201, 'Laptop', 'Electronics', 301, 'North', 'USA', 2, 800.00, 1600.00),\n",
    "  (8, 108, 'Henry Brown', 'henry@example.com', 208, 'Mouse', 'Electronics', 308, 'East', 'USA', 7, 25.00, 175.00),\n",
    "  (9, 109, 'Ivy Wilson', 'ivy@example.com', 209, 'Keyboard', 'Electronics', 309, 'West', 'Canada', 6, 45.00, 270.00),\n",
    "  (10, 110, 'Jack Taylor', 'jack@example.com', 210, 'Desk Lamp', 'Furniture', 310, 'Central', 'USA', 3, 35.00, 105.00),\n",
    "  (11, 111, 'Karen Young', 'karen@example.com', 211, 'Book', 'Stationery', 311, 'North', 'Canada', 12, 10.00, 120.00),\n",
    "  (12, 112, 'Leo King', 'leo@example.com', 212, 'Printer', 'Electronics', 312, 'South', 'UK', 2, 150.00, 300.00),\n",
    "  (13, 113, 'Mona Scott', 'mona@example.com', 213, 'Paper', 'Stationery', 313, 'East', 'UK', 20, 1.50, 30.00),\n",
    "  (14, 114, 'Nina Adams', 'nina@example.com', 214, 'Desk', 'Furniture', 314, 'West', 'UK', 1, 250.00, 250.00),\n",
    "  (15, 115, 'Oscar Reed', 'oscar@example.com', 215, 'Chair Mat', 'Furniture', 315, 'Central', 'Canada', 2, 40.00, 80.00);"
   ]
  },
  {
   "cell_type": "code",
   "execution_count": 0,
   "metadata": {
    "application/vnd.databricks.v1+cell": {
     "cellMetadata": {
      "byteLimit": 2048000,
      "implicitDf": true,
      "rowLimit": 10000
     },
     "inputWidgets": {},
     "nuid": "36b30148-522b-4a9d-ba77-e4da6ee7ddf2",
     "showTitle": false,
     "tableResultSettingsMap": {},
     "title": ""
    }
   },
   "outputs": [],
   "source": [
    "%sql\n",
    "ALTER TABLE scd.orders ADD COLUMNS (orderdate DATE);\n",
    "\n",
    "UPDATE scd.orders\n",
    "SET orderdate = CASE\n",
    "  WHEN order_id = 1 THEN '2025-07-01'\n",
    "  WHEN order_id = 2 THEN '2025-07-02'\n",
    "  WHEN order_id = 3 THEN '2025-07-03'\n",
    "  WHEN order_id = 4 THEN '2025-07-04'\n",
    "  WHEN order_id = 5 THEN '2025-07-05'\n",
    "  WHEN order_id = 6 THEN '2025-07-06'\n",
    "  WHEN order_id = 7 THEN '2025-07-07'\n",
    "  WHEN order_id = 8 THEN '2025-07-08'\n",
    "  WHEN order_id = 9 THEN '2025-07-09'\n",
    "  WHEN order_id = 10 THEN '2025-07-10'\n",
    "  WHEN order_id = 11 THEN '2025-07-11'\n",
    "  WHEN order_id = 12 THEN '2025-07-12'\n",
    "  WHEN order_id = 13 THEN '2025-07-13'\n",
    "  WHEN order_id = 14 THEN '2025-07-14'\n",
    "  WHEN order_id = 15 THEN '2025-07-15'\n",
    "  WHEN order_id = 16 THEN '2025-07-16'\n",
    "  WHEN order_id = 17 THEN '2025-07-17'\n",
    "  ELSE NULL\n",
    "END;"
   ]
  },
  {
   "cell_type": "code",
   "execution_count": 0,
   "metadata": {
    "application/vnd.databricks.v1+cell": {
     "cellMetadata": {
      "byteLimit": 2048000,
      "implicitDf": true,
      "rowLimit": 10000
     },
     "inputWidgets": {},
     "nuid": "f676e8b6-80f3-4827-ae1a-ff2866adc227",
     "showTitle": false,
     "tableResultSettingsMap": {},
     "title": ""
    }
   },
   "outputs": [],
   "source": [
    "%sql\n",
    "SELECT * FROM workspace.scd.orders;"
   ]
  },
  {
   "cell_type": "markdown",
   "metadata": {
    "application/vnd.databricks.v1+cell": {
     "cellMetadata": {
      "byteLimit": 2048000,
      "rowLimit": 10000
     },
     "inputWidgets": {},
     "nuid": "fc21251e-0b30-4037-8800-78829ea8130c",
     "showTitle": false,
     "tableResultSettingsMap": {},
     "title": ""
    }
   },
   "source": [
    "SCD-0: INSERT RECORD TO DIMENSION TABLE\n"
   ]
  },
  {
   "cell_type": "code",
   "execution_count": 0,
   "metadata": {
    "application/vnd.databricks.v1+cell": {
     "cellMetadata": {
      "byteLimit": 2048000,
      "implicitDf": true,
      "rowLimit": 10000
     },
     "inputWidgets": {},
     "nuid": "28445dc0-5c99-4dc9-999e-d145fe0de9d0",
     "showTitle": false,
     "tableResultSettingsMap": {},
     "title": ""
    }
   },
   "outputs": [],
   "source": [
    "%sql\n",
    "CREATE TABLE IF NOT EXISTS scd.product_dim (\n",
    "  productid int,\n",
    "  productname string,\n",
    "  productcategory string\n",
    ") "
   ]
  },
  {
   "cell_type": "code",
   "execution_count": 0,
   "metadata": {
    "application/vnd.databricks.v1+cell": {
     "cellMetadata": {
      "byteLimit": 2048000,
      "implicitDf": true,
      "rowLimit": 10000
     },
     "inputWidgets": {},
     "nuid": "2d463ca6-b02f-4179-921e-6af5f6cce8cd",
     "showTitle": false,
     "tableResultSettingsMap": {},
     "title": ""
    }
   },
   "outputs": [],
   "source": [
    "%sql\n",
    "SELECT * FROM workspace.scd.orders;"
   ]
  },
  {
   "cell_type": "code",
   "execution_count": 0,
   "metadata": {
    "application/vnd.databricks.v1+cell": {
     "cellMetadata": {
      "byteLimit": 2048000,
      "implicitDf": true,
      "rowLimit": 10000
     },
     "inputWidgets": {},
     "nuid": "347c5645-9ac4-4f81-b04b-d7176c5e64f8",
     "showTitle": false,
     "tableResultSettingsMap": {},
     "title": ""
    }
   },
   "outputs": [],
   "source": [
    "%sql\n",
    "INSERT INTO workspace.scd.product_dim \n",
    "SELECT productid, productname, productcategory \n",
    "FROM workspace.scd.orders;"
   ]
  },
  {
   "cell_type": "code",
   "execution_count": 0,
   "metadata": {
    "application/vnd.databricks.v1+cell": {
     "cellMetadata": {
      "byteLimit": 2048000,
      "implicitDf": true,
      "rowLimit": 10000
     },
     "inputWidgets": {},
     "nuid": "6a3202ac-44f5-45d1-9a46-42ae78c71366",
     "showTitle": false,
     "tableResultSettingsMap": {},
     "title": ""
    }
   },
   "outputs": [],
   "source": [
    "%sql\n",
    "select * from workspace.scd.product_dim;"
   ]
  },
  {
   "cell_type": "markdown",
   "metadata": {
    "application/vnd.databricks.v1+cell": {
     "cellMetadata": {
      "byteLimit": 2048000,
      "rowLimit": 10000
     },
     "inputWidgets": {},
     "nuid": "952d6f92-c360-4189-a143-96b515e67df8",
     "showTitle": false,
     "tableResultSettingsMap": {},
     "title": ""
    }
   },
   "source": [
    "SCD-1: UPSERT (UPDATE AND INSERT) USING MERGE"
   ]
  },
  {
   "cell_type": "code",
   "execution_count": 0,
   "metadata": {
    "application/vnd.databricks.v1+cell": {
     "cellMetadata": {
      "byteLimit": 2048000,
      "implicitDf": true,
      "rowLimit": 10000
     },
     "inputWidgets": {},
     "nuid": "1145c272-9dbb-41da-8032-e1fccf1ee8b9",
     "showTitle": false,
     "tableResultSettingsMap": {},
     "title": ""
    }
   },
   "outputs": [],
   "source": [
    "%sql\n",
    "INSERT INTO workspace.scd.orders VALUES\n",
    "(14, 114, 'Nina Adams', 'nina@example.com', 214, 'ManualDeSk', 'Furniture', 314, 'West', 'UK', 1, 250.00, 250.00,'2025-07-17'),\n",
    "(15, 115, 'Oscar Reed', 'oscar@example.com', 230, 'Chair Mat', 'Furniture', 315, 'Central', 'Canada', 2, 40.00, 80.00,'2025-07-18');"
   ]
  },
  {
   "cell_type": "code",
   "execution_count": 0,
   "metadata": {
    "application/vnd.databricks.v1+cell": {
     "cellMetadata": {
      "byteLimit": 2048000,
      "implicitDf": true,
      "rowLimit": 10000
     },
     "inputWidgets": {},
     "nuid": "50e88132-a06b-493c-b958-c44cacf4f654",
     "showTitle": false,
     "tableResultSettingsMap": {},
     "title": ""
    }
   },
   "outputs": [],
   "source": [
    "%sql\n",
    "CREATE OR REPLACE VIEW workspace.scd.view_product_dim\n",
    "AS\n",
    "SELECT distinct(productid) AS productid, productname, productcategory FROM workspace.scd.orders WHERE orderdate > '2025-07-16';"
   ]
  },
  {
   "cell_type": "code",
   "execution_count": 0,
   "metadata": {
    "application/vnd.databricks.v1+cell": {
     "cellMetadata": {
      "byteLimit": 2048000,
      "implicitDf": true,
      "rowLimit": 10000
     },
     "inputWidgets": {},
     "nuid": "19b02e42-5a31-4b85-b0d8-11fbe88c2585",
     "showTitle": false,
     "tableResultSettingsMap": {},
     "title": ""
    }
   },
   "outputs": [],
   "source": [
    "%sql\n",
    "SELECT * FROM workspace.scd.view_product_dim;"
   ]
  },
  {
   "cell_type": "code",
   "execution_count": 0,
   "metadata": {
    "application/vnd.databricks.v1+cell": {
     "cellMetadata": {
      "byteLimit": 2048000,
      "implicitDf": true,
      "rowLimit": 10000
     },
     "inputWidgets": {},
     "nuid": "957dffab-3b2d-4312-b143-5172a667ef42",
     "showTitle": false,
     "tableResultSettingsMap": {},
     "title": ""
    }
   },
   "outputs": [],
   "source": [
    "%sql\n",
    "MERGE INTO workspace.scd.product_dim AS trg\n",
    "USING workspace.scd.view_product_dim AS src\n",
    "ON trg.productid = src.productid\n",
    "WHEN MATCHED THEN UPDATE SET *\n",
    "WHEN NOT MATCHED THEN INSERT *"
   ]
  },
  {
   "cell_type": "code",
   "execution_count": 0,
   "metadata": {
    "application/vnd.databricks.v1+cell": {
     "cellMetadata": {
      "byteLimit": 2048000,
      "implicitDf": true,
      "rowLimit": 10000
     },
     "inputWidgets": {},
     "nuid": "75025a8f-3f42-4c5e-ad4e-f174ee469cba",
     "showTitle": false,
     "tableResultSettingsMap": {},
     "title": ""
    }
   },
   "outputs": [],
   "source": [
    "%sql\n",
    "SELECT * FROM workspace.scd.product_dim;"
   ]
  },
  {
   "cell_type": "markdown",
   "metadata": {
    "application/vnd.databricks.v1+cell": {
     "cellMetadata": {},
     "inputWidgets": {},
     "nuid": "f1e48fc8-76d2-4157-ba5c-8d72e15909ba",
     "showTitle": false,
     "tableResultSettingsMap": {},
     "title": ""
    }
   },
   "source": [
    "REAPETE"
   ]
  }
 ],
 "metadata": {
  "application/vnd.databricks.v1+notebook": {
   "computePreferences": {
    "hardware": {
     "accelerator": null,
     "gpuPoolId": null,
     "memory": "HIGH"
    }
   },
   "dashboards": [],
   "environmentMetadata": {
    "base_environment": "",
    "environment_version": "2"
   },
   "inputWidgetPreferences": null,
   "language": "python",
   "notebookMetadata": {
    "mostRecentlyExecutedCommandWithImplicitDF": {
     "commandId": 6913134811726204,
     "dataframes": [
      "_sqldf"
     ]
    },
    "pythonIndentUnit": 4
   },
   "notebookName": "SCD",
   "widgets": {}
  },
  "language_info": {
   "name": "python"
  }
 },
 "nbformat": 4,
 "nbformat_minor": 0
}
